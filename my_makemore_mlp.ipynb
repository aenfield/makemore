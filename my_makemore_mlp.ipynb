{
 "cells": [
  {
   "cell_type": "code",
   "execution_count": 1,
   "id": "84c10dfb",
   "metadata": {},
   "outputs": [],
   "source": [
    "import torch\n",
    "import torch.nn.functional as F\n",
    "\n",
    "import matplotlib.pyplot as plt\n",
    "%matplotlib inline"
   ]
  },
  {
   "cell_type": "markdown",
   "id": "146b59dd",
   "metadata": {},
   "source": [
    "Goal: (like the first lecture/notebook) generate _more_ rows of text that are like the ones fed in first. Here, do this by picking a character that is likely, based on the three previous characters.\n",
    "\n",
    "\"We're maximizing the probability of the word, with respect to the parameters of the neural net. The parameters are the weights and biases of the output layer that does a softmax, the hidden layer, and the (character) embedding look up table layer called C.\"  "
   ]
  },
  {
   "cell_type": "markdown",
   "id": "9fe9ce69",
   "metadata": {},
   "source": [
    "# Prep"
   ]
  },
  {
   "cell_type": "code",
   "execution_count": 2,
   "id": "6b98401c",
   "metadata": {},
   "outputs": [
    {
     "data": {
      "text/plain": [
       "['emma', 'olivia', 'ava', 'isabella', 'sophia', 'charlotte', 'mia', 'amelia']"
      ]
     },
     "execution_count": 2,
     "metadata": {},
     "output_type": "execute_result"
    }
   ],
   "source": [
    "# start w/ the words (names)\n",
    "words = open('names.txt', 'r').read().splitlines()\n",
    "words[:8]"
   ]
  },
  {
   "cell_type": "code",
   "execution_count": 3,
   "id": "9d3e05f8",
   "metadata": {},
   "outputs": [
    {
     "data": {
      "text/plain": [
       "32033"
      ]
     },
     "execution_count": 3,
     "metadata": {},
     "output_type": "execute_result"
    }
   ],
   "source": [
    "len(words)"
   ]
  },
  {
   "cell_type": "code",
   "execution_count": 4,
   "id": "7d3c9699",
   "metadata": {},
   "outputs": [
    {
     "name": "stdout",
     "output_type": "stream",
     "text": [
      "{1: 'a', 2: 'b', 3: 'c', 4: 'd', 5: 'e', 6: 'f', 7: 'g', 8: 'h', 9: 'i', 10: 'j', 11: 'k', 12: 'l', 13: 'm', 14: 'n', 15: 'o', 16: 'p', 17: 'q', 18: 'r', 19: 's', 20: 't', 21: 'u', 22: 'v', 23: 'w', 24: 'x', 25: 'y', 26: 'z', 0: '.'}\n"
     ]
    }
   ],
   "source": [
    "# build the vocab of characters and mapping from/to integers\n",
    "chars = sorted(list(set(''.join(words))))\n",
    "stoi = {s:i+1 for i,s in enumerate(chars)}\n",
    "stoi['.'] = 0\n",
    "itos = {i:s for s,i in stoi.items()}\n",
    "print(itos)"
   ]
  },
  {
   "cell_type": "markdown",
   "id": "28b32e03",
   "metadata": {},
   "source": [
    "# Build the dataset"
   ]
  },
  {
   "cell_type": "code",
   "execution_count": 48,
   "id": "d94c313f",
   "metadata": {},
   "outputs": [],
   "source": [
    "# build the dataset\n",
    "block_size = 3 # context length of how many chars to predict the next one\n",
    "X, Y = [], []\n",
    "\n",
    "for w in words:\n",
    "#for w in words[:5]:\n",
    "    #print(w)\n",
    "    context = [0] * block_size\n",
    "    for ch in w + '.':\n",
    "        ix = stoi[ch]\n",
    "        X.append(context)\n",
    "        Y.append(ix)\n",
    "        #print(''.join(itos[i] for i in context), '-->', itos[ix], context)\n",
    "        context = context[1:] + [ix] # crop first char and append current label\n",
    "        \n",
    "X = torch.tensor(X)\n",
    "Y = torch.tensor(Y)"
   ]
  },
  {
   "cell_type": "code",
   "execution_count": 49,
   "id": "b8d3bdf7",
   "metadata": {},
   "outputs": [
    {
     "data": {
      "text/plain": [
       "(torch.Size([228146, 3]), torch.int64, torch.Size([228146]), torch.int64)"
      ]
     },
     "execution_count": 49,
     "metadata": {},
     "output_type": "execute_result"
    }
   ],
   "source": [
    "X.shape, X.dtype, Y.shape, Y.dtype"
   ]
  },
  {
   "cell_type": "code",
   "execution_count": 50,
   "id": "0974b379",
   "metadata": {},
   "outputs": [
    {
     "data": {
      "text/plain": [
       "228146"
      ]
     },
     "execution_count": 50,
     "metadata": {},
     "output_type": "execute_result"
    }
   ],
   "source": [
    "len(X)"
   ]
  },
  {
   "cell_type": "markdown",
   "id": "013ec49b",
   "metadata": {},
   "source": [
    "The X dataset is a row per each combination of three characters - including three '.' chars that indicate the start (or end) of the word - in each word in the input, with the actual data in the row an array of integers. The Y dataset is the integer of the _next_ character after the three. So, with the single input row 'emma', we generate five dataset rows, starting with '...'->'e' and ending with 'mma'->'.'. When we work w/ just the first five words, we get 32 rows/combinations of three characters."
   ]
  },
  {
   "cell_type": "markdown",
   "id": "4d8ca1b4",
   "metadata": {},
   "source": [
    "Here's where I updated things to create a training, dev/validation, and test split."
   ]
  },
  {
   "cell_type": "code",
   "execution_count": 132,
   "id": "4eb05a97",
   "metadata": {},
   "outputs": [
    {
     "name": "stdout",
     "output_type": "stream",
     "text": [
      "torch.Size([182625, 3]) torch.Size([182625])\n",
      "torch.Size([22655, 3]) torch.Size([22655])\n",
      "torch.Size([22866, 3]) torch.Size([22866])\n"
     ]
    }
   ],
   "source": [
    "def build_dataset(words):\n",
    "    block_size = 3 # context length of how many chars to predict the next one\n",
    "    X, Y = [], []\n",
    "\n",
    "    for w in words:\n",
    "    #for w in words[:5]:\n",
    "        #print(w)\n",
    "        context = [0] * block_size\n",
    "        for ch in w + '.':\n",
    "            ix = stoi[ch]\n",
    "            X.append(context)\n",
    "            Y.append(ix)\n",
    "            #print(''.join(itos[i] for i in context), '-->', itos[ix], context)\n",
    "            context = context[1:] + [ix] # crop first char and append current label\n",
    "\n",
    "    X = torch.tensor(X)\n",
    "    Y = torch.tensor(Y)    \n",
    "    print(X.shape, Y.shape)\n",
    "    return X, Y\n",
    "\n",
    "import random\n",
    "random.seed(42)\n",
    "random.shuffle(words)\n",
    "n1 = int(0.8*len(words)) # 80% for training\n",
    "n2 = int(0.9*len(words)) # 90% - 10% for dev/validation, 10% for test\n",
    "\n",
    "Xtr, Ytr = build_dataset(words[:n1])\n",
    "Xdev, Ydev = build_dataset(words[n1:n2])\n",
    "Xte, Yte = build_dataset(words[n2:])"
   ]
  },
  {
   "cell_type": "code",
   "execution_count": 133,
   "id": "fb9f2f8d",
   "metadata": {},
   "outputs": [
    {
     "data": {
      "text/plain": [
       "25626"
      ]
     },
     "execution_count": 133,
     "metadata": {},
     "output_type": "execute_result"
    }
   ],
   "source": [
    "# training words\n",
    "n1"
   ]
  },
  {
   "cell_type": "code",
   "execution_count": 134,
   "id": "34fc18ca",
   "metadata": {},
   "outputs": [
    {
     "data": {
      "text/plain": [
       "3203"
      ]
     },
     "execution_count": 134,
     "metadata": {},
     "output_type": "execute_result"
    }
   ],
   "source": [
    "# dev/validation words\n",
    "n2 - n1"
   ]
  },
  {
   "cell_type": "code",
   "execution_count": 137,
   "id": "4430229c",
   "metadata": {},
   "outputs": [
    {
     "data": {
      "text/plain": [
       "3204"
      ]
     },
     "execution_count": 137,
     "metadata": {},
     "output_type": "execute_result"
    }
   ],
   "source": [
    "# test words\n",
    "len(words) - n2"
   ]
  },
  {
   "cell_type": "markdown",
   "id": "8d509bb4",
   "metadata": {},
   "source": [
    "# Build the embedding layer C"
   ]
  },
  {
   "cell_type": "code",
   "execution_count": 8,
   "id": "9df612db",
   "metadata": {},
   "outputs": [],
   "source": [
    "embedding_dims = 2\n",
    "\n",
    "C = torch.randn(27, embedding_dims)"
   ]
  },
  {
   "cell_type": "markdown",
   "id": "280cffdd",
   "metadata": {},
   "source": [
    "One way to think about the embedding layer is to think of indexing into an array that maps character indexes into two-dimensional floats."
   ]
  },
  {
   "cell_type": "code",
   "execution_count": 9,
   "id": "b1f8e2ed",
   "metadata": {},
   "outputs": [
    {
     "data": {
      "text/plain": [
       "tensor([-0.6858, -0.7519])"
      ]
     },
     "execution_count": 9,
     "metadata": {},
     "output_type": "execute_result"
    }
   ],
   "source": [
    "C[5]"
   ]
  },
  {
   "cell_type": "markdown",
   "id": "32b804b3",
   "metadata": {},
   "source": [
    "Another way to think of the embedding layer is that it's just another layer in the neural net, but one with no bias weights and without a non-linearity (like tanh). Conceptually here we one-hot encode the character we want to provide as input and then matmul that one-hot encoded input with the C layer. The one-hot encoded input has all zeros except for a one in the spot that matches the index we care about - 5 in this example - and so we 'pull out' only the values from C in that row. Ultimately we get the same result."
   ]
  },
  {
   "cell_type": "code",
   "execution_count": 10,
   "id": "e9b22ecb",
   "metadata": {},
   "outputs": [
    {
     "data": {
      "text/plain": [
       "tensor([-0.6858, -0.7519])"
      ]
     },
     "execution_count": 10,
     "metadata": {},
     "output_type": "execute_result"
    }
   ],
   "source": [
    "F.one_hot(torch.tensor(5), num_classes=27).float() @ C"
   ]
  },
  {
   "cell_type": "markdown",
   "id": "31886f67",
   "metadata": {},
   "source": [
    "Indexing is faster, so we'll do that."
   ]
  },
  {
   "cell_type": "markdown",
   "id": "8a63008a",
   "metadata": {},
   "source": [
    "We want to embed not just a single character, but instead the three chars we have as input. PyTorch indexing is powerful and accepts a lot of different things, including lists, and even multi-dimensional arrays/tensors. X is our input data - it's a tensor with many rows -when we test w/ just five words of input, 32 rows - and each row having three numbers, one for each character. We want a mapping between ALL of these rows and characters to the floating point numbers that represent/embed each character. Ultimately, with 32 rows and three characters each, we want an output that's 32 rows by 3 characters by 2 floats. PyTorch indexing is powerful, so to get this, all we have to do is index into C with the full X array (which again has a shape of 32, 3). PyTorch will pick out the appropriate 2D embedding values and return a tensor of shape 32, 3, 2. "
   ]
  },
  {
   "cell_type": "code",
   "execution_count": 11,
   "id": "1f73932a",
   "metadata": {},
   "outputs": [
    {
     "data": {
      "text/plain": [
       "torch.Size([32, 3, 2])"
      ]
     },
     "execution_count": 11,
     "metadata": {},
     "output_type": "execute_result"
    }
   ],
   "source": [
    "emb = C[X] # this embeds ALL of the dataset's characters in C\n",
    "emb.shape"
   ]
  },
  {
   "cell_type": "code",
   "execution_count": 12,
   "id": "ccc68195",
   "metadata": {},
   "outputs": [
    {
     "data": {
      "text/plain": [
       "tensor([[[-0.6255, -1.2843],\n",
       "         [-0.6255, -1.2843],\n",
       "         [-0.6255, -1.2843]],\n",
       "\n",
       "        [[-0.6255, -1.2843],\n",
       "         [-0.6255, -1.2843],\n",
       "         [-0.6858, -0.7519]],\n",
       "\n",
       "        [[-0.6255, -1.2843],\n",
       "         [-0.6858, -0.7519],\n",
       "         [ 0.3411,  1.0509]]])"
      ]
     },
     "execution_count": 12,
     "metadata": {},
     "output_type": "execute_result"
    }
   ],
   "source": [
    "emb[:3]"
   ]
  },
  {
   "cell_type": "code",
   "execution_count": 13,
   "id": "b391cc34",
   "metadata": {},
   "outputs": [
    {
     "data": {
      "text/plain": [
       "tensor(5)"
      ]
     },
     "execution_count": 13,
     "metadata": {},
     "output_type": "execute_result"
    }
   ],
   "source": [
    "X[2, 1]"
   ]
  },
  {
   "cell_type": "code",
   "execution_count": 14,
   "id": "0ad183e2",
   "metadata": {},
   "outputs": [
    {
     "data": {
      "text/plain": [
       "tensor([-0.6858, -0.7519])"
      ]
     },
     "execution_count": 14,
     "metadata": {},
     "output_type": "execute_result"
    }
   ],
   "source": [
    "emb[2, 1]"
   ]
  },
  {
   "cell_type": "markdown",
   "id": "4695088a",
   "metadata": {},
   "source": [
    "# Building the hidden layer"
   ]
  },
  {
   "cell_type": "code",
   "execution_count": 15,
   "id": "9065070b",
   "metadata": {},
   "outputs": [
    {
     "data": {
      "text/plain": [
       "6"
      ]
     },
     "execution_count": 15,
     "metadata": {},
     "output_type": "execute_result"
    }
   ],
   "source": [
    "# how many floating point inputs to the hidden layer?\n",
    "# for three char inputs with two floats per char, it's 6\n",
    "input_chars = block_size * embedding_dims\n",
    "input_chars"
   ]
  },
  {
   "cell_type": "code",
   "execution_count": 16,
   "id": "ee2e5e4a",
   "metadata": {},
   "outputs": [],
   "source": [
    "hidden_neurons = 100\n",
    "\n",
    "W1 = torch.randn((input_chars, hidden_neurons)) # 6, 100\n",
    "b1 = torch.randn(hidden_neurons) # 100"
   ]
  },
  {
   "cell_type": "markdown",
   "id": "3be37474",
   "metadata": {},
   "source": [
    "We want to do emb @ W1 + b. We can't, right now, because embd is 32, 3, 2 while W1 is 6, 100. We want to combine the 3, 2 part into a single dimension of size 6, so we'll have 32x6, which we can then matmul with 6x100."
   ]
  },
  {
   "cell_type": "code",
   "execution_count": 17,
   "id": "36828f6b",
   "metadata": {},
   "outputs": [
    {
     "data": {
      "text/plain": [
       "torch.Size([32, 2])"
      ]
     },
     "execution_count": 17,
     "metadata": {},
     "output_type": "execute_result"
    }
   ],
   "source": [
    "# one inefficient way is via cat\n",
    "emb[:, 0, :].shape # single 32 by 2 embeddings for the first char"
   ]
  },
  {
   "cell_type": "code",
   "execution_count": 18,
   "id": "ef37ee0d",
   "metadata": {},
   "outputs": [
    {
     "data": {
      "text/plain": [
       "torch.Size([32, 6])"
      ]
     },
     "execution_count": 18,
     "metadata": {},
     "output_type": "execute_result"
    }
   ],
   "source": [
    "# all three chars then are as follows, which gives us 32,6 as we want\n",
    "torch.cat([emb[:, 0, :], emb[:, 1, :], emb[:, 2, :]], 1).shape # concat on dim 1, not zero"
   ]
  },
  {
   "cell_type": "code",
   "execution_count": 19,
   "id": "78f8b262",
   "metadata": {},
   "outputs": [
    {
     "data": {
      "text/plain": [
       "torch.Size([32, 6])"
      ]
     },
     "execution_count": 19,
     "metadata": {},
     "output_type": "execute_result"
    }
   ],
   "source": [
    "# the above doesn't generalize because it hardcodes block size of three\n",
    "# i could use 'unbind' to 'remove a tensor dimension'\n",
    "# unbind gives a list of tensors like the hard-codet just above\n",
    "torch.cat(torch.unbind(emb, 1), 1).shape"
   ]
  },
  {
   "cell_type": "markdown",
   "id": "608d626e",
   "metadata": {},
   "source": [
    "But, both of the above are using new memory. Instead, we can use 'view' to just change the metadata on the underlying data - each tensor has underlying storage that's just a 1D set of data - and get a diff view without having to do anything with new data."
   ]
  },
  {
   "cell_type": "code",
   "execution_count": 20,
   "id": "ebab720a",
   "metadata": {},
   "outputs": [
    {
     "data": {
      "text/plain": [
       "tensor([ 0,  1,  2,  3,  4,  5,  6,  7,  8,  9, 10, 11, 12, 13, 14, 15, 16, 17])"
      ]
     },
     "execution_count": 20,
     "metadata": {},
     "output_type": "execute_result"
    }
   ],
   "source": [
    "a = torch.arange(18)\n",
    "a"
   ]
  },
  {
   "cell_type": "code",
   "execution_count": 21,
   "id": "43dde976",
   "metadata": {},
   "outputs": [
    {
     "data": {
      "text/plain": [
       "tensor([[ 0,  1],\n",
       "        [ 2,  3],\n",
       "        [ 4,  5],\n",
       "        [ 6,  7],\n",
       "        [ 8,  9],\n",
       "        [10, 11],\n",
       "        [12, 13],\n",
       "        [14, 15],\n",
       "        [16, 17]])"
      ]
     },
     "execution_count": 21,
     "metadata": {},
     "output_type": "execute_result"
    }
   ],
   "source": [
    "a.view(9, 2)"
   ]
  },
  {
   "cell_type": "code",
   "execution_count": 22,
   "id": "9bd96d58",
   "metadata": {},
   "outputs": [
    {
     "data": {
      "text/plain": [
       "tensor([[[ 0,  1],\n",
       "         [ 2,  3],\n",
       "         [ 4,  5]],\n",
       "\n",
       "        [[ 6,  7],\n",
       "         [ 8,  9],\n",
       "         [10, 11]],\n",
       "\n",
       "        [[12, 13],\n",
       "         [14, 15],\n",
       "         [16, 17]]])"
      ]
     },
     "execution_count": 22,
     "metadata": {},
     "output_type": "execute_result"
    }
   ],
   "source": [
    "a.view(3, 3, 2)"
   ]
  },
  {
   "cell_type": "code",
   "execution_count": 23,
   "id": "5226b19f",
   "metadata": {},
   "outputs": [
    {
     "data": {
      "text/plain": [
       "torch.Size([32, 3, 2])"
      ]
     },
     "execution_count": 23,
     "metadata": {},
     "output_type": "execute_result"
    }
   ],
   "source": [
    "emb.shape"
   ]
  },
  {
   "cell_type": "code",
   "execution_count": 24,
   "id": "77279558",
   "metadata": {},
   "outputs": [
    {
     "data": {
      "text/plain": [
       "tensor([[-0.6255, -1.2843, -0.6255, -1.2843, -0.6255, -1.2843],\n",
       "        [-0.6255, -1.2843, -0.6255, -1.2843, -0.6858, -0.7519],\n",
       "        [-0.6255, -1.2843, -0.6858, -0.7519,  0.3411,  1.0509],\n",
       "        [-0.6858, -0.7519,  0.3411,  1.0509,  0.3411,  1.0509],\n",
       "        [ 0.3411,  1.0509,  0.3411,  1.0509, -0.7718,  0.8061],\n",
       "        [-0.6255, -1.2843, -0.6255, -1.2843, -0.6255, -1.2843],\n",
       "        [-0.6255, -1.2843, -0.6255, -1.2843,  1.3296, -0.3574],\n",
       "        [-0.6255, -1.2843,  1.3296, -0.3574,  0.3403, -0.5097],\n",
       "        [ 1.3296, -0.3574,  0.3403, -0.5097, -1.2017, -0.3589],\n",
       "        [ 0.3403, -0.5097, -1.2017, -0.3589, -0.8617, -0.7880],\n",
       "        [-1.2017, -0.3589, -0.8617, -0.7880, -1.2017, -0.3589],\n",
       "        [-0.8617, -0.7880, -1.2017, -0.3589, -0.7718,  0.8061],\n",
       "        [-0.6255, -1.2843, -0.6255, -1.2843, -0.6255, -1.2843],\n",
       "        [-0.6255, -1.2843, -0.6255, -1.2843, -0.7718,  0.8061],\n",
       "        [-0.6255, -1.2843, -0.7718,  0.8061, -0.8617, -0.7880],\n",
       "        [-0.7718,  0.8061, -0.8617, -0.7880, -0.7718,  0.8061],\n",
       "        [-0.6255, -1.2843, -0.6255, -1.2843, -0.6255, -1.2843],\n",
       "        [-0.6255, -1.2843, -0.6255, -1.2843, -1.2017, -0.3589],\n",
       "        [-0.6255, -1.2843, -1.2017, -0.3589, -0.1746,  0.5505],\n",
       "        [-1.2017, -0.3589, -0.1746,  0.5505, -0.7718,  0.8061],\n",
       "        [-0.1746,  0.5505, -0.7718,  0.8061, -0.9532,  0.1686],\n",
       "        [-0.7718,  0.8061, -0.9532,  0.1686, -0.6858, -0.7519],\n",
       "        [-0.9532,  0.1686, -0.6858, -0.7519,  0.3403, -0.5097],\n",
       "        [-0.6858, -0.7519,  0.3403, -0.5097,  0.3403, -0.5097],\n",
       "        [ 0.3403, -0.5097,  0.3403, -0.5097, -0.7718,  0.8061],\n",
       "        [-0.6255, -1.2843, -0.6255, -1.2843, -0.6255, -1.2843],\n",
       "        [-0.6255, -1.2843, -0.6255, -1.2843, -0.1746,  0.5505],\n",
       "        [-0.6255, -1.2843, -0.1746,  0.5505,  1.3296, -0.3574],\n",
       "        [-0.1746,  0.5505,  1.3296, -0.3574, -0.7200,  2.1354],\n",
       "        [ 1.3296, -0.3574, -0.7200,  2.1354,  0.8053, -0.4749],\n",
       "        [-0.7200,  2.1354,  0.8053, -0.4749, -1.2017, -0.3589],\n",
       "        [ 0.8053, -0.4749, -1.2017, -0.3589, -0.7718,  0.8061]])"
      ]
     },
     "execution_count": 24,
     "metadata": {},
     "output_type": "execute_result"
    }
   ],
   "source": [
    "emb.view(32, 6)"
   ]
  },
  {
   "cell_type": "code",
   "execution_count": 25,
   "id": "1a9506cb",
   "metadata": {},
   "outputs": [
    {
     "data": {
      "text/plain": [
       "tensor([[True, True, True, True, True, True],\n",
       "        [True, True, True, True, True, True],\n",
       "        [True, True, True, True, True, True],\n",
       "        [True, True, True, True, True, True],\n",
       "        [True, True, True, True, True, True],\n",
       "        [True, True, True, True, True, True],\n",
       "        [True, True, True, True, True, True],\n",
       "        [True, True, True, True, True, True],\n",
       "        [True, True, True, True, True, True],\n",
       "        [True, True, True, True, True, True],\n",
       "        [True, True, True, True, True, True],\n",
       "        [True, True, True, True, True, True],\n",
       "        [True, True, True, True, True, True],\n",
       "        [True, True, True, True, True, True],\n",
       "        [True, True, True, True, True, True],\n",
       "        [True, True, True, True, True, True],\n",
       "        [True, True, True, True, True, True],\n",
       "        [True, True, True, True, True, True],\n",
       "        [True, True, True, True, True, True],\n",
       "        [True, True, True, True, True, True],\n",
       "        [True, True, True, True, True, True],\n",
       "        [True, True, True, True, True, True],\n",
       "        [True, True, True, True, True, True],\n",
       "        [True, True, True, True, True, True],\n",
       "        [True, True, True, True, True, True],\n",
       "        [True, True, True, True, True, True],\n",
       "        [True, True, True, True, True, True],\n",
       "        [True, True, True, True, True, True],\n",
       "        [True, True, True, True, True, True],\n",
       "        [True, True, True, True, True, True],\n",
       "        [True, True, True, True, True, True],\n",
       "        [True, True, True, True, True, True]])"
      ]
     },
     "execution_count": 25,
     "metadata": {},
     "output_type": "execute_result"
    }
   ],
   "source": [
    "# view and unbind give the same result\n",
    "emb.view(32, 6) == torch.cat(torch.unbind(emb, 1), 1)"
   ]
  },
  {
   "cell_type": "markdown",
   "id": "1fa3fee4",
   "metadata": {},
   "source": [
    "The above does rely on the fact that 'view', when asked for a 32x6 from our 32x3x2, combines each of the 3x2 into a single 6. (Or rather, that the underlying data for the 3x2 is a 1D sequence of six values.)"
   ]
  },
  {
   "cell_type": "code",
   "execution_count": 26,
   "id": "2bce8c9f",
   "metadata": {},
   "outputs": [
    {
     "data": {
      "text/plain": [
       "tensor([[-4.6885,  1.7984, -0.5017,  ...,  2.0045,  1.2657,  7.6324],\n",
       "        [-4.2666,  2.1013, -0.4891,  ...,  2.0728,  1.0189,  6.6183],\n",
       "        [-2.0902,  2.6800, -2.1972,  ...,  3.2927,  2.4481,  2.0328],\n",
       "        ...,\n",
       "        [ 2.1487,  0.6642,  1.8126,  ...,  1.7950, -0.6022,  4.3396],\n",
       "        [-1.9477,  1.6876,  1.3532,  ...,  0.5476, -3.8667, -4.3770],\n",
       "        [-0.6151,  2.1599,  0.9927,  ...,  0.7803, -1.6662,  4.7585]])"
      ]
     },
     "execution_count": 26,
     "metadata": {},
     "output_type": "execute_result"
    }
   ],
   "source": [
    "# ultimately, we can do our matmul to get the hidden layer vals\n",
    "h = emb.view(32, 6) @ W1 + b1\n",
    "h"
   ]
  },
  {
   "cell_type": "code",
   "execution_count": 27,
   "id": "d270d07b",
   "metadata": {},
   "outputs": [
    {
     "data": {
      "text/plain": [
       "torch.Size([32, 100])"
      ]
     },
     "execution_count": 27,
     "metadata": {},
     "output_type": "execute_result"
    }
   ],
   "source": [
    "h.shape"
   ]
  },
  {
   "cell_type": "code",
   "execution_count": 28,
   "id": "98a62efe",
   "metadata": {},
   "outputs": [
    {
     "data": {
      "text/plain": [
       "torch.Size([32, 100])"
      ]
     },
     "execution_count": 28,
     "metadata": {},
     "output_type": "execute_result"
    }
   ],
   "source": [
    "h = emb.view(-1, 6) @ W1 + b1 # -1 is same as len(emb), -1 sets the dim to fit the underlying data\n",
    "h.shape"
   ]
  },
  {
   "cell_type": "code",
   "execution_count": 29,
   "id": "6ba8241a",
   "metadata": {},
   "outputs": [
    {
     "data": {
      "text/plain": [
       "32"
      ]
     },
     "execution_count": 29,
     "metadata": {},
     "output_type": "execute_result"
    }
   ],
   "source": [
    "len(emb)"
   ]
  },
  {
   "cell_type": "code",
   "execution_count": 30,
   "id": "e2e4081e",
   "metadata": {},
   "outputs": [
    {
     "data": {
      "text/plain": [
       "tensor([[-0.9998,  0.9466, -0.4634,  ...,  0.9643,  0.8526,  1.0000],\n",
       "        [-0.9996,  0.9705, -0.4535,  ...,  0.9688,  0.7694,  1.0000],\n",
       "        [-0.9699,  0.9906, -0.9756,  ...,  0.9972,  0.9852,  0.9663],\n",
       "        ...,\n",
       "        [ 0.9732,  0.5812,  0.9481,  ...,  0.9463, -0.5386,  0.9997],\n",
       "        [-0.9601,  0.9338,  0.8748,  ...,  0.4987, -0.9991, -0.9997],\n",
       "        [-0.5477,  0.9737,  0.7585,  ...,  0.6529, -0.9310,  0.9999]])"
      ]
     },
     "execution_count": 30,
     "metadata": {},
     "output_type": "execute_result"
    }
   ],
   "source": [
    "h = torch.tanh(emb.view(-1, input_chars) @ W1 + b1)\n",
    "h"
   ]
  },
  {
   "cell_type": "markdown",
   "id": "7c31bd62",
   "metadata": {},
   "source": [
    "Also, he talked about confirming that b1 is broadcast to each row of the result of the matmul. So, I think it's that we have 32 input rows of six values each, and our W1 tensor is 6x100. \n",
    "\n",
    "First, I want to remember that we have 100 hidden neurons, each of which is connected to six input neurons. For each of the 100 hidden neurons we have six weights, one for each of the inputs. This is what makes W1 6,100. We also have a single 100 length bias vector - each value applies to one hidden neuron and is the same/doesn't change or depend upon the number of connected input neurons. Ultimately, the calc for the hidden layer is, per hidden layer neuron, a set of six (normal) multiplications each of the floating point input value multiplied by the specific weight for the combination of that neuron AND that input value, the sum of which is then added to the single bias value for that neuron.    \n",
    "\n",
    "The matmul is 32,6 @ 6,100 -> 32,100. We know the matmul takes the six values in the first row and multiplies them by the six values in the first column, and then adds the result and stores it as the value of the first row and column of the ultimate 32,100 tensor. It multiplies the same six input values from the first row by the six values in each of the remaining 99 columns to fill out the 100 columns in the first of 32 rows. Then, finally, it does the same for the remaining 31 rows in the input tensor, generating 100 values each time, to get the fill out the full 32 rows of the 32,100 result. Here, we're doing 32*100 calcs -> 3200 total calcs. Our bias vector is just 100 values. We want it to be broadcast to each of the calcs we do for each of the 32 input rows. PyTorch will do this, because we start with 32,100 and are adding a 100. PyTorch lines up the 100 w/ the right-most dimension, I think, and then fills in the missing dim with '1', making a 1,100 tensor, which adds to each row the 32,100 matmul result."
   ]
  },
  {
   "cell_type": "code",
   "execution_count": 31,
   "id": "8b6e4957",
   "metadata": {},
   "outputs": [
    {
     "data": {
      "text/plain": [
       "torch.Size([6, 100])"
      ]
     },
     "execution_count": 31,
     "metadata": {},
     "output_type": "execute_result"
    }
   ],
   "source": [
    "W1.shape"
   ]
  },
  {
   "cell_type": "markdown",
   "id": "64fb4a92",
   "metadata": {},
   "source": [
    "# Building the final output softmax/probability layer"
   ]
  },
  {
   "cell_type": "code",
   "execution_count": 32,
   "id": "3fd77385",
   "metadata": {},
   "outputs": [],
   "source": [
    "# final layer is 100,27 - 100 input neurons from the hidden layer\n",
    "# mapping to 27 output neurons, one for each character\n",
    "W2 = torch.randn((hidden_neurons, 27)) # 100, 27\n",
    "b2 = torch.randn(27)"
   ]
  },
  {
   "cell_type": "code",
   "execution_count": 33,
   "id": "f7623235",
   "metadata": {},
   "outputs": [
    {
     "data": {
      "text/plain": [
       "torch.Size([32, 27])"
      ]
     },
     "execution_count": 33,
     "metadata": {},
     "output_type": "execute_result"
    }
   ],
   "source": [
    "# and since we have a 32,100 input, matmul with 100,27 -> 32,27\n",
    "logits = h @ W2 + b2\n",
    "logits.shape"
   ]
  },
  {
   "cell_type": "code",
   "execution_count": 34,
   "id": "c15f3199",
   "metadata": {},
   "outputs": [],
   "source": [
    "# logits are log counts, so first exponentiate to get 'fake counts'\n",
    "counts = logits.exp()"
   ]
  },
  {
   "cell_type": "code",
   "execution_count": 35,
   "id": "9b882478",
   "metadata": {},
   "outputs": [
    {
     "data": {
      "text/plain": [
       "torch.Size([32, 27])"
      ]
     },
     "execution_count": 35,
     "metadata": {},
     "output_type": "execute_result"
    }
   ],
   "source": [
    "# then normalize to get probabilities\n",
    "prob = counts / counts.sum(1, keepdims=True)\n",
    "prob.shape"
   ]
  },
  {
   "cell_type": "code",
   "execution_count": 36,
   "id": "e105c708",
   "metadata": {},
   "outputs": [
    {
     "data": {
      "text/plain": [
       "tensor(1.)"
      ]
     },
     "execution_count": 36,
     "metadata": {},
     "output_type": "execute_result"
    }
   ],
   "source": [
    "prob[17].sum()"
   ]
  },
  {
   "cell_type": "code",
   "execution_count": 37,
   "id": "426e70e0",
   "metadata": {},
   "outputs": [
    {
     "data": {
      "text/plain": [
       "tensor([ 5, 13, 13,  1,  0, 15, 12,  9, 22,  9,  1,  0,  1, 22,  1,  0,  9, 19,\n",
       "         1,  2,  5, 12, 12,  1,  0, 19, 15, 16,  8,  9,  1,  0])"
      ]
     },
     "execution_count": 37,
     "metadata": {},
     "output_type": "execute_result"
    }
   ],
   "source": [
    "# actual error, based on ground truth Y (next char in seq)\n",
    "Y"
   ]
  },
  {
   "cell_type": "markdown",
   "id": "bb0a0aee",
   "metadata": {},
   "source": [
    "Ultimately, we want to index into the probabilities (one for each of the 27 chars) our model generated and pull out the specific probability for the ground truth/actual character we want the model to choose. We want this probability to be as high as possible, since high probabilities mean the model is more likely to pick the correct character. (Note that for many - all? - chars it's impossible to get a probability of 1 because in the actual data it's likely not always the case that, for even a single character, that the next character is always the same.)"
   ]
  },
  {
   "cell_type": "code",
   "execution_count": 38,
   "id": "727a2c33",
   "metadata": {},
   "outputs": [
    {
     "data": {
      "text/plain": [
       "tensor([2.7152e-10, 6.8770e-10, 1.3817e-02, 3.5121e-08, 9.6131e-11, 6.3133e-10,\n",
       "        2.5597e-07, 1.1481e-06, 3.1222e-03, 1.3037e-13, 5.9067e-08, 1.2573e-06,\n",
       "        1.5142e-10, 1.1750e-10, 2.7128e-01, 9.8952e-01, 3.0114e-17, 2.3178e-12,\n",
       "        6.5133e-12, 4.6180e-08, 4.4640e-03, 3.3532e-10, 6.0546e-07, 1.3365e-16,\n",
       "        2.1070e-04, 3.8987e-13, 5.2856e-14, 3.2494e-04, 8.0134e-10, 2.8131e-09,\n",
       "        1.7699e-08, 5.5911e-05])"
      ]
     },
     "execution_count": 38,
     "metadata": {},
     "output_type": "execute_result"
    }
   ],
   "source": [
    "# first param - range of 32 - indexes into prob once for each of the rows in prob\n",
    "# second param - Y - is a matching length (we have one ground truth for each input)\n",
    "# and the value in Y is the index into the 27 probabilities\n",
    "# ultimately this gives us the probability for the correct next char for each input row\n",
    "prob[torch.arange(32), Y]"
   ]
  },
  {
   "cell_type": "markdown",
   "id": "2b475d36",
   "metadata": {},
   "source": [
    "Many of the probabilities are horrible - likely close to zero. But we haven't trained the model yet."
   ]
  },
  {
   "cell_type": "markdown",
   "id": "033e5455",
   "metadata": {},
   "source": [
    "Finally, we want to get a single score from all of the input rows and ground truth values we've tried. Our single score is negative of the average of the log probability of each of the values. This creates the negative log likelihood loss.  "
   ]
  },
  {
   "cell_type": "code",
   "execution_count": 39,
   "id": "0f8b5f73",
   "metadata": {},
   "outputs": [
    {
     "data": {
      "text/plain": [
       "tensor(18.1133)"
      ]
     },
     "execution_count": 39,
     "metadata": {},
     "output_type": "execute_result"
    }
   ],
   "source": [
    "loss = -prob[torch.arange(32), Y].log().mean()\n",
    "loss"
   ]
  },
  {
   "cell_type": "markdown",
   "id": "aeefc0df",
   "metadata": {},
   "source": [
    "# Cleaned up and pulled together first cut at a model that minimizes the loss"
   ]
  },
  {
   "cell_type": "code",
   "execution_count": 65,
   "id": "6a098dcd",
   "metadata": {},
   "outputs": [],
   "source": [
    "karpathy_seed = 2147483647"
   ]
  },
  {
   "cell_type": "code",
   "execution_count": 66,
   "id": "d9d18583",
   "metadata": {},
   "outputs": [],
   "source": [
    "embedding_dims = 2\n",
    "hidden_neurons = 100"
   ]
  },
  {
   "cell_type": "code",
   "execution_count": 67,
   "id": "940ecb46",
   "metadata": {},
   "outputs": [
    {
     "name": "stdout",
     "output_type": "stream",
     "text": [
      "3\n"
     ]
    },
    {
     "data": {
      "text/plain": [
       "(torch.Size([228146, 3]), torch.Size([228146]))"
      ]
     },
     "execution_count": 67,
     "metadata": {},
     "output_type": "execute_result"
    }
   ],
   "source": [
    "print(block_size) # don't set here because it affects the X, Y data\n",
    "X.shape, Y.shape"
   ]
  },
  {
   "cell_type": "code",
   "execution_count": 157,
   "id": "be02469b",
   "metadata": {},
   "outputs": [],
   "source": [
    "g = torch.Generator().manual_seed(karpathy_seed)\n",
    "C = torch.randn((27, embedding_dims), generator=g) # 27,2\n",
    "W1 = torch.randn((block_size*embedding_dims, hidden_neurons), generator=g) # 6, 100\n",
    "b1 = torch.randn(hidden_neurons, generator=g)\n",
    "W2 = torch.randn((hidden_neurons, 27), generator=g)\n",
    "b2 = torch.randn(27, generator=g)\n",
    "parameters = [C, W1, b1, W2, b2]"
   ]
  },
  {
   "cell_type": "code",
   "execution_count": 158,
   "id": "60baa771",
   "metadata": {},
   "outputs": [
    {
     "data": {
      "text/plain": [
       "3481"
      ]
     },
     "execution_count": 158,
     "metadata": {},
     "output_type": "execute_result"
    }
   ],
   "source": [
    "# how many total parameters are we finding?\n",
    "sum(p.nelement() for p in parameters)"
   ]
  },
  {
   "cell_type": "markdown",
   "id": "6104a7a9",
   "metadata": {},
   "source": [
    "The cross_entropy fuinction used below replaces the manual calc of probabilities and the calc of the loss function - it just needs logits (log counts) and the ground truth. Besides being canned and so easier to read/search for/understand/without roll-your-own bugs, it's more efficient - doesn't create new tensors, uses 'fused kernels', and simpler/direct 'clustered' backward pass math. It also is also better behaved numerically because it avoids very large logits by shifting down, avoiding floating point inf values.\n",
    "\n",
    "I also added in minibatches. We can - and we did when we started - do each iteration - each forward/backward pass - using _all_ of the 200K+ rows. This gives us a gradient that's accurate in that it reflects all the data, but it takes a long time to do each iteration since our tensors have a lot of dimensions that have 200K+ rows. An alternative is to use 'minibatches' - for each iteration, randomly sample a much smaller subset of rows - the minibatch - and do the forward/backward gradient calculation using only this data. This gives gradients that can jump around and that are likely to be further from the gradient calculated from all data, but they still push us in mostly the same/correct direction, AND calculating with 32 input rows vs 200K+ is MUCH faster. (Also, I'd guess that since we're randomly sampling the variation in the gradients will average out to something close to the gradient from all the data.)\n",
    "\n",
    "Also, I think if I recall correctly - I thought about this in the pool at the Elua - that there's a gradient value per mathematical node in the graph of all the calcs. This matches the idea that the number of inputs doesn't change the number of gradient values, since the number of gradient values is defined by the number of nodes in the neural net and how the nodes are connected. I think. I could rewatch the micrograd talk now that I want to make sure this is correct/understand it."
   ]
  },
  {
   "cell_type": "code",
   "execution_count": 159,
   "id": "bc299833",
   "metadata": {},
   "outputs": [],
   "source": [
    "for p in parameters:\n",
    "    p.requires_grad = True"
   ]
  },
  {
   "cell_type": "code",
   "execution_count": 160,
   "id": "a3a34e6c",
   "metadata": {},
   "outputs": [],
   "source": [
    "# we want to try diff learning rates - we want more granularity at\n",
    "# small rates and less at the top, so instead of just using linspace\n",
    "# directly, we'll use linspace to get a linea set of numbers and then\n",
    "# use those numbers as exponents, to get the difference in granularity\n",
    "# we want (this is to get the best rate to train normally - diff from\n",
    "# 'learning rate decay' where we finish things out with a smaller \n",
    "# learning rate than we use normally)\n",
    "lre = torch.linspace(-3, 0, 1000)\n",
    "lrs = 10**lre"
   ]
  },
  {
   "cell_type": "code",
   "execution_count": 172,
   "id": "a6e3a5c2",
   "metadata": {},
   "outputs": [
    {
     "name": "stdout",
     "output_type": "stream",
     "text": [
      "2.1344239711761475\n"
     ]
    }
   ],
   "source": [
    "lri = []\n",
    "lossi = []\n",
    "\n",
    "for i in range(1000):\n",
    "    \n",
    "    # if using minibatches/not training each iteration on the full 200K+ dataset\n",
    "    minibatch_size = 64\n",
    "    ix = torch.randint(0, X.shape[0], (minibatch_size,))\n",
    "\n",
    "    # forward pass\n",
    "    emb = C[X[ix]] # 32, 3, 2 # w/ minibatch\n",
    "    # emb = C[X] # 32, 3, 2 - w/o minibatch\n",
    "    h = torch.tanh(emb.view(-1, 6) @ W1 + b1) # 32, 100\n",
    "    logits = h @ W2 + b2 # 32, 27\n",
    "    loss = F.cross_entropy(logits, Y[ix]) # with minibatch\n",
    "    #loss = F.cross_entropy(logits, Y) # w/o minibatch \n",
    "    #print(loss.item())\n",
    "    \n",
    "    # backward pass\n",
    "    for p in parameters:\n",
    "        p.grad = None\n",
    "    loss.backward()\n",
    "    \n",
    "    # update\n",
    "    #lr = lrs[i] # pull from our changing learning rate array, starts low and gets bigger\n",
    "    lr = 0.1\n",
    "    for p in parameters:\n",
    "        p.data += -lr * p.grad\n",
    "        \n",
    "    # track stats\n",
    "    lri.append(lre[i])\n",
    "    lossi.append(loss.item())\n",
    "        \n",
    "print(loss.item()) # loss for just the last minibatch"
   ]
  },
  {
   "cell_type": "markdown",
   "id": "0442c6cd",
   "metadata": {},
   "source": [
    "The original loss was very low (I think I remember < 1), but it's because our input data when we start is only 32 rows and we have ~3500 params, so we crazy overfit. (We can't overfit to a loss of zero because in some cases - like with the first char of the word, we have many diff input values - of [0, 0, 0] - that map to different output values.) When we pull in the full set of data and get 200K+ input rows, the loss doesn't go as low."
   ]
  },
  {
   "cell_type": "code",
   "execution_count": 131,
   "id": "2768d3da",
   "metadata": {},
   "outputs": [
    {
     "name": "stdout",
     "output_type": "stream",
     "text": [
      "torch.Size([228146, 3, 2])\n"
     ]
    },
    {
     "data": {
      "text/plain": [
       "2.3062076568603516"
      ]
     },
     "execution_count": 131,
     "metadata": {},
     "output_type": "execute_result"
    }
   ],
   "source": [
    "# what's the loss on the whole dataset? formulas are the same, just\n",
    "# the data fed to the first layer and the number of Y vals matches\n",
    "emb = C[X] # no longer a 32 row minibatch\n",
    "print(emb.size())\n",
    "h = torch.tanh(emb.view(-1, 6) @ W1 + b1) # 32, 100\n",
    "logits = h @ W2 + b2 # 32, 27\n",
    "loss_full_dataset = F.cross_entropy(logits, Y) \n",
    "loss_full_dataset.item()"
   ]
  },
  {
   "cell_type": "code",
   "execution_count": 163,
   "id": "927dd6b0",
   "metadata": {},
   "outputs": [
    {
     "data": {
      "text/plain": [
       "[<matplotlib.lines.Line2D at 0x2c3351fd0>]"
      ]
     },
     "execution_count": 163,
     "metadata": {},
     "output_type": "execute_result"
    },
    {
     "data": {
      "image/png": "[encoded data removed]",
      "text/plain": [
       "<Figure size 640x480 with 1 Axes>"
      ]
     },
     "metadata": {},
     "output_type": "display_data"
    }
   ],
   "source": [
    "# doesn't work unless stats stuff above is uncommented\n",
    "plt.plot(lri, lossi)"
   ]
  },
  {
   "cell_type": "markdown",
   "id": "817dfb4b",
   "metadata": {},
   "source": [
    "# Update for training, dev/validation, and test splits"
   ]
  },
  {
   "cell_type": "markdown",
   "id": "843a2a41",
   "metadata": {},
   "source": [
    "Training - say 80% - is to optimize the actual parameters of the model - the weights, etc. - as we've done above; dev/validation - 10% - is for tuning hyperparameters of the model - for ex, size of the hidden layer or size of embedding or amount of regularization; and test - 10% for the last number that we'd report.\n",
    "\n",
    "I updated the code up top where I created the X and Y datasets to do the split."
   ]
  },
  {
   "cell_type": "code",
   "execution_count": null,
   "id": "70c4093e",
   "metadata": {},
   "outputs": [],
   "source": [
    "embedding_dims = 2\n",
    "hidden_neurons = 100 "
   ]
  },
  {
   "cell_type": "code",
   "execution_count": 173,
   "id": "c0b6e120",
   "metadata": {},
   "outputs": [],
   "source": [
    "g = torch.Generator().manual_seed(karpathy_seed)\n",
    "C = torch.randn((27, embedding_dims), generator=g) # 27,2\n",
    "W1 = torch.randn((block_size*embedding_dims, hidden_neurons), generator=g) # 6, 100\n",
    "b1 = torch.randn(hidden_neurons, generator=g)\n",
    "W2 = torch.randn((hidden_neurons, 27), generator=g)\n",
    "b2 = torch.randn(27, generator=g)\n",
    "parameters = [C, W1, b1, W2, b2]"
   ]
  },
  {
   "cell_type": "code",
   "execution_count": 174,
   "id": "525ce948",
   "metadata": {},
   "outputs": [
    {
     "data": {
      "text/plain": [
       "3481"
      ]
     },
     "execution_count": 174,
     "metadata": {},
     "output_type": "execute_result"
    }
   ],
   "source": [
    "# how many total parameters are we finding?\n",
    "sum(p.nelement() for p in parameters)"
   ]
  },
  {
   "cell_type": "code",
   "execution_count": 175,
   "id": "b84b5cf6",
   "metadata": {},
   "outputs": [],
   "source": [
    "for p in parameters:\n",
    "    p.requires_grad = True"
   ]
  },
  {
   "cell_type": "code",
   "execution_count": 180,
   "id": "4f92a9b7",
   "metadata": {},
   "outputs": [
    {
     "name": "stdout",
     "output_type": "stream",
     "text": [
      "2.5789387226104736\n"
     ]
    }
   ],
   "source": [
    "for i in range(10000):\n",
    "    \n",
    "    # if using minibatches/not training each iteration on the full 200K+ dataset\n",
    "    minibatch_size = 64\n",
    "    ix = torch.randint(0, Xtr.shape[0], (minibatch_size,))\n",
    "\n",
    "    # forward pass\n",
    "    emb = C[Xtr[ix]] # 32, 3, 2 # w/ minibatch\n",
    "    h = torch.tanh(emb.view(-1, 6) @ W1 + b1) # 32, 100\n",
    "    logits = h @ W2 + b2 # 32, 27\n",
    "    loss = F.cross_entropy(logits, Ytr[ix]) # with minibatch\n",
    "    #print(loss.item())\n",
    "    \n",
    "    # backward pass\n",
    "    for p in parameters:\n",
    "        p.grad = None\n",
    "    loss.backward()\n",
    "    \n",
    "    # update\n",
    "    lr = 0.1\n",
    "    for p in parameters:\n",
    "        p.data += -lr * p.grad\n",
    "        \n",
    "print(loss.item()) # loss for just the last minibatch"
   ]
  },
  {
   "cell_type": "code",
   "execution_count": 182,
   "id": "ad5b7272",
   "metadata": {},
   "outputs": [
    {
     "name": "stdout",
     "output_type": "stream",
     "text": [
      "torch.Size([182625, 3, 2])\n"
     ]
    },
    {
     "data": {
      "text/plain": [
       "2.3465025424957275"
      ]
     },
     "execution_count": 182,
     "metadata": {},
     "output_type": "execute_result"
    }
   ],
   "source": [
    "emb = C[Xtr] \n",
    "print(emb.size())\n",
    "h = torch.tanh(emb.view(-1, 6) @ W1 + b1) # 32, 100\n",
    "logits = h @ W2 + b2 # 32, 27\n",
    "loss_full_dataset = F.cross_entropy(logits, Ytr) \n",
    "loss_full_dataset.item()"
   ]
  },
  {
   "cell_type": "code",
   "execution_count": 181,
   "id": "4aa1d949",
   "metadata": {},
   "outputs": [
    {
     "name": "stdout",
     "output_type": "stream",
     "text": [
      "torch.Size([22655, 3, 2])\n"
     ]
    },
    {
     "data": {
      "text/plain": [
       "2.3444454669952393"
      ]
     },
     "execution_count": 181,
     "metadata": {},
     "output_type": "execute_result"
    }
   ],
   "source": [
    "emb = C[Xdev] \n",
    "print(emb.size())\n",
    "h = torch.tanh(emb.view(-1, 6) @ W1 + b1) # 32, 100\n",
    "logits = h @ W2 + b2 # 32, 27\n",
    "loss_full_dataset = F.cross_entropy(logits, Ydev) \n",
    "loss_full_dataset.item()"
   ]
  },
  {
   "cell_type": "markdown",
   "id": "3a32ff6a",
   "metadata": {},
   "source": [
    "Since the loss (on all of) the training and (all of the) test data is about the same, this means we're _not_ overfitting on the training data. When we don't overfit on the training data, that's typically because the model isn't powerful enough (to learn the training data) - it doesn't have enough parameters."
   ]
  },
  {
   "cell_type": "markdown",
   "id": "4a2a383b",
   "metadata": {},
   "source": [
    "The last 15m of the video has him doing some additional optimization, including increasing the size of the hidden layer, increasing a bit the size of the minibatch (to avoid thrashing). He didn't see much improvement here, so he also talked about increasing the size of the embedding layer - figuring that it might be the bottleneck in the network because increasing the hidden layer from 100 to 300 didn't change much. As part of this he also wrote code that drew a visualization of the embedding - since we start w/ this at 2 floating point numbers, we can visualize them on a plane. The video shows how the network's learned to cluster vowels (since they can be used in similar spots in a word). It also learns to put a few characters away from all others, when they're odd - it does this w/ 'q' and the '.' special character. When he increased the embedding size to 10 and reduced the hidden layer down to I think 200 or so, he saw that the training loss started to tend lower than than test loss, supporting the idea that the embedding layer was holding back the scores. He finished up by adding a learning rate decay. He ended up w/ a best test loss of 2.17, and finished up in the last few mins w/ laying out all the different parts that could be further optimized to potentially improve on this number (including using more than three characters as input). And in the very last minute or two how to sample from the model to get new names."
   ]
  },
  {
   "cell_type": "code",
   "execution_count": 185,
   "id": "27e9fecd",
   "metadata": {},
   "outputs": [
    {
     "name": "stdout",
     "output_type": "stream",
     "text": [
      "ameyah.\n",
      "zabhen.\n",
      "hekanniyandya.\n",
      "anberier.\n",
      "hil.\n",
      "saz.\n",
      "chen.\n",
      "diolan.\n",
      "mar.\n",
      "havieieya.\n",
      "wasminledethominra.\n",
      "pax.\n",
      "tosolimiuh.\n",
      "riceeyo.\n",
      "ashoni.\n",
      "ansa.\n",
      "bunander.\n",
      "jaxalikr.\n",
      "bina.\n",
      "edbyo.\n",
      "jahgyszectaniiye.\n",
      "caidara.\n",
      "ail.\n",
      "maswaya.\n",
      "kamiyahvayahah.\n",
      "sinley.\n",
      "anialah.\n",
      "ella.\n",
      "dowiej.\n",
      "cadie.\n"
     ]
    }
   ],
   "source": [
    "# sample from the model\n",
    "g = torch.Generator().manual_seed(karpathy_seed + 15)\n",
    "\n",
    "for _ in range(30):\n",
    "    out = []\n",
    "    context = [0] * block_size # start with ...\n",
    "    while True:\n",
    "        emb = C[torch.tensor([context])] # (1,block_size,d)\n",
    "        h = torch.tanh(emb.view(1, -1) @ W1 + b1)\n",
    "        logits = h @ W2 + b2\n",
    "        probs = F.softmax(logits, dim=1)\n",
    "        ix = torch.multinomial(probs, num_samples=1, generator=g).item()\n",
    "        context = context[1:] + [ix]\n",
    "        out.append(ix)\n",
    "        if ix == 0:\n",
    "            break\n",
    "        \n",
    "    print(''.join(itos[i] for i in out))"
   ]
  },
  {
   "cell_type": "code",
   "execution_count": null,
   "id": "36cc5b08",
   "metadata": {},
   "outputs": [],
   "source": []
  }
 ],
 "metadata": {
  "kernelspec": {
   "display_name": "Python 3 (ipykernel)",
   "language": "python",
   "name": "python3"
  },
  "language_info": {
   "codemirror_mode": {
    "name": "ipython",
    "version": 3
   },
   "file_extension": ".py",
   "mimetype": "text/x-python",
   "name": "python",
   "nbconvert_exporter": "python",
   "pygments_lexer": "ipython3",
   "version": "3.11.5"
  }
 },
 "nbformat": 4,
 "nbformat_minor": 5
}
