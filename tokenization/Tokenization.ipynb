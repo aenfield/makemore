{
 "cells": [
  {
   "cell_type": "code",
   "execution_count": 1,
   "id": "f001b299-9e26-4c62-8d60-59c34645b39d",
   "metadata": {},
   "outputs": [],
   "source": [
    "import numpy as np"
   ]
  },
  {
   "cell_type": "markdown",
   "id": "ddd36dd9-c3f1-4e08-9a42-324dd8a1e2e3",
   "metadata": {},
   "source": [
    "Reproducing the code from the Karpathy \"Let's build the GPT Tokenizer\" lecture at https://www.youtube.com/watch?v=zduSFxRajkE."
   ]
  },
  {
   "cell_type": "markdown",
   "id": "c6fe27b7-a247-412f-abf2-034090d590cf",
   "metadata": {},
   "source": [
    "A good web app for working live with tokenization: https://tiktokenizer.vercel.app."
   ]
  },
  {
   "cell_type": "markdown",
   "id": "b662929c-7106-43b3-b4b9-ffc10f253ee5",
   "metadata": {},
   "source": [
    "Got to 16m in the lecture."
   ]
  },
  {
   "cell_type": "code",
   "execution_count": null,
   "id": "d5d355af-d7e4-4a1a-9c77-3f88979f7bad",
   "metadata": {},
   "outputs": [],
   "source": []
  }
 ],
 "metadata": {
  "kernelspec": {
   "display_name": "Python 3 (ipykernel)",
   "language": "python",
   "name": "python3"
  },
  "language_info": {
   "codemirror_mode": {
    "name": "ipython",
    "version": 3
   },
   "file_extension": ".py",
   "mimetype": "text/x-python",
   "name": "python",
   "nbconvert_exporter": "python",
   "pygments_lexer": "ipython3",
   "version": "3.11.11"
  }
 },
 "nbformat": 4,
 "nbformat_minor": 5
}
