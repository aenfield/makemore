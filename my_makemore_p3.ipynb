{
 "cells": [
  {
   "cell_type": "markdown",
   "id": "ec1be7fa",
   "metadata": {},
   "source": [
    "This one covers activations and gradients (and diagnostic stats and visualizations), batchnorm, and a 'pytorchification' of all of the previous work that wraps previous code in an API that looks like PyTorch w/ classes for layers, etc."
   ]
  },
  {
   "cell_type": "code",
   "execution_count": 1,
   "id": "ae7e3de7",
   "metadata": {},
   "outputs": [],
   "source": [
    "import torch\n",
    "import torch.nn.functional as F\n",
    "import matplotlib.pyplot as plt\n",
    "%matplotlib inline"
   ]
  },
  {
   "cell_type": "code",
   "execution_count": 2,
   "id": "56e4e95a",
   "metadata": {},
   "outputs": [
    {
     "data": {
      "text/plain": [
       "['emma', 'olivia', 'ava', 'isabella', 'sophia', 'charlotte', 'mia', 'amelia']"
      ]
     },
     "execution_count": 2,
     "metadata": {},
     "output_type": "execute_result"
    }
   ],
   "source": [
    "words = open('names.txt', 'r').read().splitlines()\n",
    "words[:8]"
   ]
  },
  {
   "cell_type": "code",
   "execution_count": 3,
   "id": "43f9a949",
   "metadata": {},
   "outputs": [
    {
     "data": {
      "text/plain": [
       "32033"
      ]
     },
     "execution_count": 3,
     "metadata": {},
     "output_type": "execute_result"
    }
   ],
   "source": [
    "len(words)"
   ]
  },
  {
   "cell_type": "code",
   "execution_count": 4,
   "id": "5b725ad7",
   "metadata": {},
   "outputs": [
    {
     "name": "stdout",
     "output_type": "stream",
     "text": [
      "{1: 'a', 2: 'b', 3: 'c', 4: 'd', 5: 'e', 6: 'f', 7: 'g', 8: 'h', 9: 'i', 10: 'j', 11: 'k', 12: 'l', 13: 'm', 14: 'n', 15: 'o', 16: 'p', 17: 'q', 18: 'r', 19: 's', 20: 't', 21: 'u', 22: 'v', 23: 'w', 24: 'x', 25: 'y', 26: 'z', 0: '.'}\n",
      "27\n"
     ]
    }
   ],
   "source": [
    "chars = sorted(list(set(''.join(words))))\n",
    "\n",
    "stoi = {s:i+1 for i,s in enumerate(chars)}\n",
    "stoi['.'] = 0\n",
    "\n",
    "itos = {i:s for s,i in stoi.items()}\n",
    "\n",
    "vocab_size = len(itos)\n",
    "print(itos)\n",
    "print(vocab_size)"
   ]
  },
  {
   "cell_type": "code",
   "execution_count": 5,
   "id": "66192505",
   "metadata": {},
   "outputs": [
    {
     "name": "stdout",
     "output_type": "stream",
     "text": [
      "torch.Size([182625, 3]) torch.Size([182625])\n",
      "torch.Size([22655, 3]) torch.Size([22655])\n",
      "torch.Size([22866, 3]) torch.Size([22866])\n"
     ]
    }
   ],
   "source": [
    "# build the dataset\n",
    "block_size = 3 # context length, how many chars to predict next char?\n",
    "\n",
    "def build_dataset(words):\n",
    "    X, Y = [], []\n",
    "    \n",
    "    for w in words:\n",
    "        context = [0] * block_size\n",
    "        # training row for each set of block_size chars (with '.' at end)\n",
    "        for ch in w + '.':\n",
    "            ix = stoi[ch] # 'next' char, after context\n",
    "            X.append(context)\n",
    "            Y.append(ix)\n",
    "            context = context[1:] + [ix] # new context shifts right and adds prev 'next' char\n",
    "            \n",
    "    X = torch.tensor(X)\n",
    "    Y = torch.tensor(Y)\n",
    "    print(X.shape, Y.shape)\n",
    "    return X, Y\n",
    "\n",
    "import random\n",
    "random.seed(42)\n",
    "random.shuffle(words)\n",
    "n1 = int(0.8*len(words)) # 80% for train\n",
    "n2 = int(0.9*len(words)) # 10% for dev/validation and test\n",
    "\n",
    "Xtr,  Ytr = build_dataset(words[:n1])    # 80%\n",
    "Xdev, Ydev = build_dataset(words[n1:n2]) # 10%\n",
    "Xte,  Yte = build_dataset(words[n2:])    # 10%"
   ]
  },
  {
   "cell_type": "code",
   "execution_count": 7,
   "id": "86d1edae",
   "metadata": {},
   "outputs": [
    {
     "name": "stdout",
     "output_type": "stream",
     "text": [
      "11897\n"
     ]
    }
   ],
   "source": [
    "# MLP (revisited, he says)\n",
    "n_embd = 10 # dimensionality of character embedding vectors\n",
    "n_hidden = 200 # number of neurons in MLP hidden layer(s)\n",
    "\n",
    "g  = torch.Generator().manual_seed(2147483647)\n",
    "C  = torch.randn((vocab_size, n_embd),            generator=g)\n",
    "W1 = torch.randn((n_embd * block_size, n_hidden), generator=g)\n",
    "b1 = torch.randn(n_hidden,                        generator=g)\n",
    "W2 = torch.randn((n_hidden, vocab_size),          generator=g)\n",
    "b2 = torch.randn(vocab_size,                      generator=g)\n",
    "\n",
    "parameters = [C, W1, b1, W2, b2]\n",
    "print(sum(p.nelement() for p in parameters))\n",
    "\n",
    "for p in parameters:\n",
    "    p.requires_grad = True"
   ]
  },
  {
   "cell_type": "code",
   "execution_count": 11,
   "id": "7ec3734d",
   "metadata": {},
   "outputs": [
    {
     "name": "stdout",
     "output_type": "stream",
     "text": [
      "      0/ 200000: 26.9945\n",
      "  10000/ 200000: 2.4082\n",
      "  20000/ 200000: 2.1997\n",
      "  30000/ 200000: 2.2095\n",
      "  40000/ 200000: 2.3114\n",
      "  50000/ 200000: 2.0961\n",
      "  60000/ 200000: 2.2502\n",
      "  70000/ 200000: 2.5068\n",
      "  80000/ 200000: 2.9409\n",
      "  90000/ 200000: 2.5324\n",
      " 100000/ 200000: 2.7696\n",
      " 110000/ 200000: 2.1313\n",
      " 120000/ 200000: 2.2607\n",
      " 130000/ 200000: 2.3955\n",
      " 140000/ 200000: 2.0824\n",
      " 150000/ 200000: 2.3267\n",
      " 160000/ 200000: 2.6652\n",
      " 170000/ 200000: 2.1866\n",
      " 180000/ 200000: 2.0533\n",
      " 190000/ 200000: 1.9721\n"
     ]
    }
   ],
   "source": [
    "# same optimization (to start) as the end of video two\n",
    "max_steps = 200000\n",
    "batch_size = 32\n",
    "lossi = []\n",
    "\n",
    "for i in range(max_steps):\n",
    "    # construct minibatch\n",
    "    ix = torch.randint(0, Xtr.shape[0], (batch_size,), generator=g)\n",
    "    Xb, Yb = Xtr[ix], Ytr[ix] # batch X,Y\n",
    "    \n",
    "    # forward pass\n",
    "    emb = C[Xb] # embed chars into vectors\n",
    "    embcat = emb.view(emb.shape[0], -1) # concat the vectors\n",
    "    hpreact = embcat @ W1 + b1 # hidden layer pre-activation\n",
    "    h = torch.tanh(hpreact) # hidden layer\n",
    "    logits = h @ W2 + b2 # output layer\n",
    "    loss = F.cross_entropy(logits, Yb) # loss function\n",
    "    \n",
    "    # backward pass\n",
    "    for p in parameters:\n",
    "        p.grad = None\n",
    "    loss.backward()\n",
    "        \n",
    "    # update\n",
    "    lr = 0.1 if i < 100000 else 0.01 # step learning rate decay\n",
    "    for p in parameters:\n",
    "        p.data += -lr * p.grad\n",
    "        \n",
    "    # track stats\n",
    "    if i % 10000 == 0: # print occasionally\n",
    "        print(f'{i:7d}/{max_steps:7d}: {loss.item():.4f}')\n",
    "    lossi.append(loss.log10().item())"
   ]
  },
  {
   "cell_type": "code",
   "execution_count": 14,
   "id": "ec3016b4",
   "metadata": {},
   "outputs": [
    {
     "data": {
      "text/plain": [
       "[<matplotlib.lines.Line2D at 0x14a1c7190>]"
      ]
     },
     "execution_count": 14,
     "metadata": {},
     "output_type": "execute_result"
    },
    {
     "data": {
      "image/png": "[encoded data removed]",
      "text/plain": [
       "<Figure size 640x480 with 1 Axes>"
      ]
     },
     "metadata": {},
     "output_type": "display_data"
    }
   ],
   "source": [
    "plt.plot(lossi)"
   ]
  },
  {
   "cell_type": "code",
   "execution_count": 10,
   "id": "5aa686a3",
   "metadata": {},
   "outputs": [
    {
     "name": "stdout",
     "output_type": "stream",
     "text": [
      "train 2.0376641750335693\n",
      "val 2.106989622116089\n"
     ]
    }
   ],
   "source": [
    "@torch.no_grad() # no gradient tracking needed for inference\n",
    "def split_loss(split):\n",
    "    x, y = {\n",
    "        'train': (Xtr, Ytr),\n",
    "        'val': (Xdev, Ydev),\n",
    "        'test': (Xte, Yte)\n",
    "    }[split]\n",
    "    emb = C[x] # (N, block_size, n_embd)\n",
    "    embcat = emb.view(emb.shape[0], -1) # concat to (N, block_size * n_embd)\n",
    "    h = torch.tanh(embcat @ W1 + b1) # (N, n_hidden)\n",
    "    logits = h @ W2 + b2 # (N, vocab_size)\n",
    "    loss = F.cross_entropy(logits, y)\n",
    "    print(split, loss.item())\n",
    "    \n",
    "split_loss('train')\n",
    "split_loss('val')"
   ]
  },
  {
   "cell_type": "code",
   "execution_count": 16,
   "id": "a02e5d5a",
   "metadata": {},
   "outputs": [
    {
     "name": "stdout",
     "output_type": "stream",
     "text": [
      "carlah.\n",
      "amelle.\n",
      "khi.\n",
      "miliathtyn.\n",
      "kansh.\n",
      "esrahnel.\n",
      "delynn.\n",
      "jareen.\n",
      "ner.\n",
      "keah.\n",
      "maiir.\n",
      "kaleigh.\n",
      "ham.\n",
      "jorn.\n",
      "quint.\n",
      "saline.\n",
      "liveni.\n",
      "waxtan.\n",
      "dearynix.\n",
      "kael.\n"
     ]
    }
   ],
   "source": [
    "# sample from/inference using the model\n",
    "g = torch.Generator().manual_seed(2147483647 + 10)\n",
    "\n",
    "for _ in range(20):\n",
    "    out = []\n",
    "    context = [0] * block_size # init w/ ...\n",
    "    while True:\n",
    "        # forward pass\n",
    "        emb = C[torch.tensor([context])] # (1, block_size, n_embd)\n",
    "        h = torch.tanh(emb.view(1, -1) @ W1 + b1)\n",
    "        logits = h @ W2 + b2\n",
    "        probs = F.softmax(logits, dim=1)\n",
    "        # sample from the prob dist\n",
    "        ix = torch.multinomial(probs, num_samples=1, generator=g).item()\n",
    "        # shift the context window and track the samples\n",
    "        context = context[1:] + [ix]\n",
    "        out.append(ix)\n",
    "        if ix == 0:\n",
    "            break\n",
    "            \n",
    "    print(''.join(itos[i] for i in out))"
   ]
  },
  {
   "cell_type": "markdown",
   "id": "067f0be4",
   "metadata": {},
   "source": [
    "# Stuff we can improve - initialization"
   ]
  },
  {
   "cell_type": "markdown",
   "id": "eec0b88b",
   "metadata": {},
   "source": [
    "First off, he talks about how the model's not initialized well, to start with because the first loss is very high - for ex, it's ~28 above. This is high compared to what it very quickly gets to - just 10K iterations/the next time we look, it's at 2.8. \n",
    "\n",
    "More importantly, initially, without having seen any data, we'd expect the model to assign roughly equal probabilities to all of the 27 outcomes."
   ]
  },
  {
   "cell_type": "code",
   "execution_count": 17,
   "id": "f5ffe7f7",
   "metadata": {},
   "outputs": [
    {
     "data": {
      "text/plain": [
       "tensor(3.2958)"
      ]
     },
     "execution_count": 17,
     "metadata": {},
     "output_type": "execute_result"
    }
   ],
   "source": [
    "# approx loss if we had uniform prob \n",
    "-torch.tensor(1/27.0).log()"
   ]
  },
  {
   "cell_type": "markdown",
   "id": "f38dce10",
   "metadata": {},
   "source": [
    "The above is an order of magnitude lower than what we actually see. This happens because the random values we assign during initialization end up producing probabilities that are very strong - high (absolute) values - when what we want is logits that are very close to zero.\n",
    "\n",
    "We can get them close to zero by adding a '* 0' - for bias - or '* 0.1' or other small number - for weights. (Generally better to have it be a small number and not zero because there's some pathological behavior, that he named but didn't explain early on at least that zero can cause.)"
   ]
  },
  {
   "cell_type": "code",
   "execution_count": 23,
   "id": "3e357a32",
   "metadata": {},
   "outputs": [
    {
     "name": "stdout",
     "output_type": "stream",
     "text": [
      "11897\n"
     ]
    }
   ],
   "source": [
    "# MLP (revisited, he says)\n",
    "n_embd = 10 # dimensionality of character embedding vectors\n",
    "n_hidden = 200 # number of neurons in MLP hidden layer(s)\n",
    "\n",
    "g  = torch.Generator().manual_seed(2147483647)\n",
    "C  = torch.randn((vocab_size, n_embd),            generator=g)\n",
    "W1 = torch.randn((n_embd * block_size, n_hidden), generator=g)\n",
    "b1 = torch.randn(n_hidden,                        generator=g)\n",
    "W2 = torch.randn((n_hidden, vocab_size),          generator=g) * 0.01\n",
    "b2 = torch.randn(vocab_size,                      generator=g) * 0\n",
    "\n",
    "parameters = [C, W1, b1, W2, b2]\n",
    "print(sum(p.nelement() for p in parameters))\n",
    "\n",
    "for p in parameters:\n",
    "    p.requires_grad = True"
   ]
  },
  {
   "cell_type": "code",
   "execution_count": 27,
   "id": "e0047d28",
   "metadata": {},
   "outputs": [
    {
     "name": "stdout",
     "output_type": "stream",
     "text": [
      "      0/ 200000: 2.2264\n"
     ]
    }
   ],
   "source": [
    "# same optimization (to start) as the end of video two\n",
    "max_steps = 200000\n",
    "batch_size = 32\n",
    "lossi = []\n",
    "\n",
    "for i in range(max_steps):\n",
    "    # construct minibatch\n",
    "    ix = torch.randint(0, Xtr.shape[0], (batch_size,), generator=g)\n",
    "    Xb, Yb = Xtr[ix], Ytr[ix] # batch X,Y\n",
    "    \n",
    "    # forward pass\n",
    "    emb = C[Xb] # embed chars into vectors\n",
    "    embcat = emb.view(emb.shape[0], -1) # concat the vectors\n",
    "    hpreact = embcat @ W1 + b1 # hidden layer pre-activation\n",
    "    h = torch.tanh(hpreact) # hidden layer\n",
    "    logits = h @ W2 + b2 # output layer\n",
    "    loss = F.cross_entropy(logits, Yb) # loss function\n",
    "    \n",
    "    # backward pass\n",
    "    for p in parameters:\n",
    "        p.grad = None\n",
    "    loss.backward()\n",
    "        \n",
    "    # update\n",
    "    lr = 0.1 if i < 100000 else 0.01 # step learning rate decay\n",
    "    for p in parameters:\n",
    "        p.data += -lr * p.grad\n",
    "        \n",
    "    # track stats\n",
    "    if i % 10000 == 0: # print occasionally\n",
    "        print(f'{i:7d}/{max_steps:7d}: {loss.item():.4f}')\n",
    "    lossi.append(loss.log10().item())\n",
    "    \n",
    "    break"
   ]
  },
  {
   "cell_type": "code",
   "execution_count": 25,
   "id": "4237fd9a",
   "metadata": {},
   "outputs": [
    {
     "data": {
      "text/plain": [
       "[<matplotlib.lines.Line2D at 0x14b8fd490>]"
      ]
     },
     "execution_count": 25,
     "metadata": {},
     "output_type": "execute_result"
    },
    {
     "data": {
      "image/png": "[encoded data removed]",
      "text/plain": [
       "<Figure size 640x480 with 1 Axes>"
      ]
     },
     "metadata": {},
     "output_type": "display_data"
    }
   ],
   "source": [
    "plt.plot(lossi)"
   ]
  },
  {
   "cell_type": "code",
   "execution_count": 26,
   "id": "7dc5f8c3",
   "metadata": {},
   "outputs": [
    {
     "name": "stdout",
     "output_type": "stream",
     "text": [
      "train 2.0695888996124268\n",
      "val 2.131074905395508\n"
     ]
    }
   ],
   "source": [
    "split_loss('train')\n",
    "split_loss('val')"
   ]
  },
  {
   "cell_type": "markdown",
   "id": "e91a88bc",
   "metadata": {},
   "source": [
    "Now, we don't have the hockey stick appearance because we 'don't have to spend the first iterations squashing down the logits' and only then 'rearranging the logits'. This leads to better loss numbers because we can get immediately to optimizing and don't have to spend iterations on that 'squashing down'."
   ]
  },
  {
   "cell_type": "markdown",
   "id": "0f1a08ac",
   "metadata": {},
   "source": [
    "The second 'deeper' problem is still w/ the values of h - the activations of the hidden layer. If we stop after one iteration and plot a histogram with the results of the h/post tanh layer we see that the vast majority of the weights are at the extreme either end of the distribution. This happens because the tanh is a squashsing function - it returns between -1 and 1 - and the values we're feeding into the tanh are almost always less than -1 or greater than 1. \n",
    "\n",
    "Extreme values like this 'stop the back propagation'/'gradients will be destroyed' because the values fed in are at flat parts of the tanh curve, and the flatness means that the you can change the input and the loss won't be affected (much). \n",
    "\n",
    "We can see this by adding the break above so we only get one iteration, and then looking at the 'h' weights."
   ]
  },
  {
   "cell_type": "code",
   "execution_count": 29,
   "id": "8d87a4a7",
   "metadata": {},
   "outputs": [
    {
     "data": {
      "image/png": "[encoded data removed]",
      "text/plain": [
       "<Figure size 640x480 with 1 Axes>"
      ]
     },
     "metadata": {},
     "output_type": "display_data"
    }
   ],
   "source": [
    "plt.hist(h.view(-1).tolist(), 50); # semicolon suppresses text output"
   ]
  },
  {
   "cell_type": "code",
   "execution_count": 30,
   "id": "6e28d445",
   "metadata": {},
   "outputs": [
    {
     "data": {
      "image/png": "[encoded data removed]",
      "text/plain": [
       "<Figure size 640x480 with 1 Axes>"
      ]
     },
     "metadata": {},
     "output_type": "display_data"
    }
   ],
   "source": [
    "plt.hist(hpreact.view(-1).tolist(), 50); # semicolon suppresses text output"
   ]
  },
  {
   "cell_type": "code",
   "execution_count": 33,
   "id": "8276061b",
   "metadata": {},
   "outputs": [
    {
     "data": {
      "text/plain": [
       "<matplotlib.image.AxesImage at 0x14b87bbd0>"
      ]
     },
     "execution_count": 33,
     "metadata": {},
     "output_type": "execute_result"
    },
    {
     "data": {
      "image/png": "[encoded data removed]",
      "text/plain": [
       "<Figure size 2000x1000 with 1 Axes>"
      ]
     },
     "metadata": {},
     "output_type": "display_data"
    }
   ],
   "source": [
    "plt.figure(figsize=(20,10))\n",
    "plt.imshow(h.abs() > 0.99, cmap='gray', interpolation='nearest')"
   ]
  },
  {
   "cell_type": "markdown",
   "id": "5e53ec28",
   "metadata": {},
   "source": [
    "The above has 32 rows, one for each input in the minibatch, and 200 columns, one for each node in the hidden layer. Each place where a cell is white is one where the absolute value of the weight is > 0.99. \n",
    "\n",
    "First off, any column where all cells are white would indicate a 'dead neuron'. None are here. If we did see this, that'd mean that the particular neuron never learns/doesn't do anything for us - i.e., no matter what inputs the neuron gets, it always fires with a 1 or -1 and so it doesn't learn because the gradient is zeroed out. Since we don't see this, at least we can say that some of the time - with some inputs - each neuron learns. \n",
    "\n",
    "Then he talks about some common activation functions, many of which have flat areas and so are potentially susceptible to this kind of problem (leaky relu is one that isn't or is less susceptible because the line < 0 isn't quite flat). He also mentions how sometimes too big of a learning rate can cause neurons to zero out/be dead. \n",
    "\n",
    "Generally, we want values that go into the tanh - hpreact - to be a lot closer to zero. The hpreact data comes from the matmul with W1 and b1, so we'll go ahead and multiply by a 10th or 100th like we did w/ the other layer."
   ]
  },
  {
   "cell_type": "code",
   "execution_count": 34,
   "id": "04f130b5",
   "metadata": {},
   "outputs": [
    {
     "name": "stdout",
     "output_type": "stream",
     "text": [
      "11897\n"
     ]
    }
   ],
   "source": [
    "# MLP (revisited, he says)\n",
    "n_embd = 10 # dimensionality of character embedding vectors\n",
    "n_hidden = 200 # number of neurons in MLP hidden layer(s)\n",
    "\n",
    "g  = torch.Generator().manual_seed(2147483647)\n",
    "C  = torch.randn((vocab_size, n_embd),            generator=g)\n",
    "W1 = torch.randn((n_embd * block_size, n_hidden), generator=g) * 0.2\n",
    "b1 = torch.randn(n_hidden,                        generator=g) * 0.01\n",
    "W2 = torch.randn((n_hidden, vocab_size),          generator=g) * 0.01\n",
    "b2 = torch.randn(vocab_size,                      generator=g) * 0\n",
    "\n",
    "parameters = [C, W1, b1, W2, b2]\n",
    "print(sum(p.nelement() for p in parameters))\n",
    "\n",
    "for p in parameters:\n",
    "    p.requires_grad = True"
   ]
  },
  {
   "cell_type": "code",
   "execution_count": 39,
   "id": "01e1ef3d",
   "metadata": {},
   "outputs": [
    {
     "name": "stdout",
     "output_type": "stream",
     "text": [
      "      0/ 200000: 3.2465\n",
      "  10000/ 200000: 1.9043\n",
      "  20000/ 200000: 1.9004\n",
      "  30000/ 200000: 1.9465\n",
      "  40000/ 200000: 2.1656\n",
      "  50000/ 200000: 2.0071\n",
      "  60000/ 200000: 2.0826\n",
      "  70000/ 200000: 2.4228\n",
      "  80000/ 200000: 2.3109\n",
      "  90000/ 200000: 2.1167\n",
      " 100000/ 200000: 2.2166\n",
      " 110000/ 200000: 1.8038\n",
      " 120000/ 200000: 2.2112\n",
      " 130000/ 200000: 1.9618\n",
      " 140000/ 200000: 1.8056\n",
      " 150000/ 200000: 2.4102\n",
      " 160000/ 200000: 2.1829\n",
      " 170000/ 200000: 1.6967\n",
      " 180000/ 200000: 1.9343\n",
      " 190000/ 200000: 2.1057\n"
     ]
    }
   ],
   "source": [
    "# same optimization (to start) as the end of video two\n",
    "max_steps = 200000\n",
    "batch_size = 32\n",
    "lossi = []\n",
    "\n",
    "for i in range(max_steps):\n",
    "    # construct minibatch\n",
    "    ix = torch.randint(0, Xtr.shape[0], (batch_size,), generator=g)\n",
    "    Xb, Yb = Xtr[ix], Ytr[ix] # batch X,Y\n",
    "    \n",
    "    # forward pass\n",
    "    emb = C[Xb] # embed chars into vectors\n",
    "    embcat = emb.view(emb.shape[0], -1) # concat the vectors\n",
    "    hpreact = embcat @ W1 + b1 # hidden layer pre-activation\n",
    "    h = torch.tanh(hpreact) # hidden layer\n",
    "    logits = h @ W2 + b2 # output layer\n",
    "    loss = F.cross_entropy(logits, Yb) # loss function\n",
    "    \n",
    "    # backward pass\n",
    "    for p in parameters:\n",
    "        p.grad = None\n",
    "    loss.backward()\n",
    "        \n",
    "    # update\n",
    "    lr = 0.1 if i < 100000 else 0.01 # step learning rate decay\n",
    "    for p in parameters:\n",
    "        p.data += -lr * p.grad\n",
    "        \n",
    "    # track stats\n",
    "    if i % 10000 == 0: # print occasionally\n",
    "        print(f'{i:7d}/{max_steps:7d}: {loss.item():.4f}')\n",
    "    lossi.append(loss.log10().item())\n",
    "    \n",
    "    #break"
   ]
  },
  {
   "cell_type": "code",
   "execution_count": 36,
   "id": "e5137c2e",
   "metadata": {},
   "outputs": [
    {
     "data": {
      "text/plain": [
       "<matplotlib.image.AxesImage at 0x14b8c2010>"
      ]
     },
     "execution_count": 36,
     "metadata": {},
     "output_type": "execute_result"
    },
    {
     "data": {
      "image/png": "[encoded data removed]",
      "text/plain": [
       "<Figure size 2000x1000 with 1 Axes>"
      ]
     },
     "metadata": {},
     "output_type": "display_data"
    }
   ],
   "source": [
    "plt.figure(figsize=(20,10))\n",
    "plt.imshow(h.abs() > 0.99, cmap='gray', interpolation='nearest')"
   ]
  },
  {
   "cell_type": "code",
   "execution_count": 37,
   "id": "916e20e6",
   "metadata": {},
   "outputs": [
    {
     "data": {
      "image/png": "[encoded data removed]",
      "text/plain": [
       "<Figure size 640x480 with 1 Axes>"
      ]
     },
     "metadata": {},
     "output_type": "display_data"
    }
   ],
   "source": [
    "plt.hist(h.view(-1).tolist(), 50); # semicolon suppresses text output"
   ]
  },
  {
   "cell_type": "code",
   "execution_count": 38,
   "id": "84712022",
   "metadata": {},
   "outputs": [
    {
     "data": {
      "image/png": "[encoded data removed]",
      "text/plain": [
       "<Figure size 640x480 with 1 Axes>"
      ]
     },
     "metadata": {},
     "output_type": "display_data"
    }
   ],
   "source": [
    "plt.hist(hpreact.view(-1).tolist(), 50); # semicolon suppresses text output"
   ]
  },
  {
   "cell_type": "markdown",
   "id": "b1379aee",
   "metadata": {},
   "source": [
    "The above is much better - hpreact is closer to zero and only a very few neurons end up white/would zero out.\n",
    "\n",
    "And the loss is improved. He notes that we started w/ a validation loss of 2.17, by fixing the softmax being confidently wrong we got to 2.13, and by fixing the tanh layer being too saturated at initialization we got down to 2.10."
   ]
  },
  {
   "cell_type": "code",
   "execution_count": 41,
   "id": "2027cbc6",
   "metadata": {},
   "outputs": [
    {
     "data": {
      "text/plain": [
       "[<matplotlib.lines.Line2D at 0x14f487210>]"
      ]
     },
     "execution_count": 41,
     "metadata": {},
     "output_type": "execute_result"
    },
    {
     "data": {
      "image/png": "[encoded data removed]",
      "text/plain": [
       "<Figure size 640x480 with 1 Axes>"
      ]
     },
     "metadata": {},
     "output_type": "display_data"
    }
   ],
   "source": [
    "plt.plot(lossi)"
   ]
  },
  {
   "cell_type": "code",
   "execution_count": 40,
   "id": "aa7fe59e",
   "metadata": {},
   "outputs": [
    {
     "name": "stdout",
     "output_type": "stream",
     "text": [
      "train 2.0357086658477783\n",
      "val 2.1029489040374756\n"
     ]
    }
   ],
   "source": [
    "split_loss('train')\n",
    "split_loss('val')"
   ]
  },
  {
   "cell_type": "markdown",
   "id": "0c2effe4",
   "metadata": {},
   "source": [
    "He notes that we have a very small/shallow network, which makes things pretty resilient to bad initialization. This isn't the case when we have bigger models - like 50 layers - and in some cases things like bad initialization can keep a model from optimizing at all. The bigger the model, the more problems we may have."
   ]
  },
  {
   "cell_type": "markdown",
   "id": "71be2245",
   "metadata": {},
   "source": [
    "# How to make numbers smaller automatically, starting with Kaiming initialization"
   ]
  },
  {
   "cell_type": "markdown",
   "id": "7430338a",
   "metadata": {},
   "source": [
    "\"No one sets [the '* 0.01' (like)] numbers we set manually above manually\" - instead they use techniques like the ones in this section to set them automatically.\n",
    "\n",
    "Without any adjustment, we can see the variance of subsequent layers get larger, when we want the variance to stay roughly the same. One approach to doing this is to divide the values in the second part of the matmul by the square root of the fan in. So, if we have a second tensor that's (10, 200), we divide by the square root of 10 (same as raise 10 to the power of 0.5).\n",
    "\n",
    "Ultimately what we want is for a network where the 'activations are well-behaved' - where they don't go to infinity or zero. He discussed this in the paper called \"Delving deep into rectifiers\" by Kaiming et al. This paper studies ReLU activations, which clamp all negative inputs to zero and pass through all positive inputs. To get the well-behaved network here, you need to compensate for the 'throwing away of half the distribution' with a gain - they use square root of 2 divided by the fan in (vs our prev paragraph w/ sqrt of 1/n). The paper also studies the backprop, and find that if you properly initialize the weights, you empirically don't need to do anything to make backprop work.\n",
    "\n",
    "PyTorch has torch.nn.init_kaiming_normal_, which is \"probably the most commonly used way to init neural networks now\". This includes a param that adjusts the gain depending on the type of non-linearity.\n",
    "\n",
    "Then he said he 'was going through the above pretty quickly' because a lot of it's no longer needed, due to further advances since the paper was written 7-8 years ago. Back then, you had to be super careful with init, etc. especially w/ deep networks, or they wouldn't train. Now, w/ 'advancements' it's a lot less important. \n",
    "\n",
    "These advancements include:\n",
    "\n",
    "- residual connections (to come)\n",
    "- using many normalization layers - batch normalization, layer normalization, etc.\n",
    "- much better optimizers - no longer just SGD, but 'armas prop' (sp?) and 'adam' (also sp?).\n",
    "\n",
    "Ultimately, what does he do in practice today? He normalizes by dividing by the square root of the fan-in, and leaves it at that, or he's a bit more complicated and uses the gain, like 5/3 for tanh. You can also use the kaiming function in pytorch, I think.\n",
    "\n",
    "So, I'll do it here - he gets the same loss as above, but the key is that we get this w/o any magic numbers that have to be set manually - like the initial 0.2 that we got by trying different numbers and seeing what worked well. Instead, these are automatically set and give good results."
   ]
  },
  {
   "cell_type": "code",
   "execution_count": 6,
   "id": "1440c017",
   "metadata": {},
   "outputs": [
    {
     "name": "stdout",
     "output_type": "stream",
     "text": [
      "11897\n"
     ]
    }
   ],
   "source": [
    "# MLP, now with kaiming initialization (for W1)\n",
    "n_embd = 10 # dimensionality of character embedding vectors\n",
    "n_hidden = 200 # number of neurons in MLP hidden layer(s)\n",
    "\n",
    "g  = torch.Generator().manual_seed(2147483647)\n",
    "C  = torch.randn((vocab_size, n_embd),            generator=g)\n",
    "W1 = torch.randn((n_embd * block_size, n_hidden), generator=g) * (5/3)/((n_embd * block_size)**0.5)\n",
    "b1 = torch.randn(n_hidden,                        generator=g) * 0.01\n",
    "W2 = torch.randn((n_hidden, vocab_size),          generator=g) * 0.01\n",
    "b2 = torch.randn(vocab_size,                      generator=g) * 0\n",
    "\n",
    "parameters = [C, W1, b1, W2, b2]\n",
    "print(sum(p.nelement() for p in parameters))\n",
    "\n",
    "for p in parameters:\n",
    "    p.requires_grad = True"
   ]
  },
  {
   "cell_type": "code",
   "execution_count": 7,
   "id": "9b9c7fe2",
   "metadata": {},
   "outputs": [
    {
     "name": "stdout",
     "output_type": "stream",
     "text": [
      "      0/ 200000: 3.3179\n",
      "  10000/ 200000: 2.1910\n",
      "  20000/ 200000: 2.3270\n",
      "  30000/ 200000: 2.5396\n",
      "  40000/ 200000: 1.9468\n",
      "  50000/ 200000: 2.3331\n",
      "  60000/ 200000: 2.3852\n",
      "  70000/ 200000: 2.1173\n",
      "  80000/ 200000: 2.3159\n",
      "  90000/ 200000: 2.2010\n",
      " 100000/ 200000: 1.8591\n",
      " 110000/ 200000: 2.0881\n",
      " 120000/ 200000: 1.9389\n",
      " 130000/ 200000: 2.3913\n",
      " 140000/ 200000: 2.0949\n",
      " 150000/ 200000: 2.1458\n",
      " 160000/ 200000: 1.7824\n",
      " 170000/ 200000: 1.7249\n",
      " 180000/ 200000: 1.9752\n",
      " 190000/ 200000: 1.8614\n"
     ]
    }
   ],
   "source": [
    "# same optimization (to start) as the end of video two\n",
    "max_steps = 200000\n",
    "batch_size = 32\n",
    "lossi = []\n",
    "\n",
    "for i in range(max_steps):\n",
    "    # construct minibatch\n",
    "    ix = torch.randint(0, Xtr.shape[0], (batch_size,), generator=g)\n",
    "    Xb, Yb = Xtr[ix], Ytr[ix] # batch X,Y\n",
    "    \n",
    "    # forward pass\n",
    "    emb = C[Xb] # embed chars into vectors\n",
    "    embcat = emb.view(emb.shape[0], -1) # concat the vectors\n",
    "    hpreact = embcat @ W1 + b1 # hidden layer pre-activation\n",
    "    h = torch.tanh(hpreact) # hidden layer\n",
    "    logits = h @ W2 + b2 # output layer\n",
    "    loss = F.cross_entropy(logits, Yb) # loss function\n",
    "    \n",
    "    # backward pass\n",
    "    for p in parameters:\n",
    "        p.grad = None\n",
    "    loss.backward()\n",
    "        \n",
    "    # update\n",
    "    lr = 0.1 if i < 100000 else 0.01 # step learning rate decay\n",
    "    for p in parameters:\n",
    "        p.data += -lr * p.grad\n",
    "        \n",
    "    # track stats\n",
    "    if i % 10000 == 0: # print occasionally\n",
    "        print(f'{i:7d}/{max_steps:7d}: {loss.item():.4f}')\n",
    "    lossi.append(loss.log10().item())\n",
    "    \n",
    "    #break"
   ]
  },
  {
   "cell_type": "code",
   "execution_count": 11,
   "id": "8510ac06",
   "metadata": {},
   "outputs": [
    {
     "name": "stdout",
     "output_type": "stream",
     "text": [
      "train 2.0376641750335693\n",
      "val 2.106989622116089\n"
     ]
    }
   ],
   "source": [
    "split_loss('train')\n",
    "split_loss('val')"
   ]
  },
  {
   "cell_type": "markdown",
   "id": "07e2bb20",
   "metadata": {},
   "source": [
    "# Batch normalization (one reason initialization doesn't matter as much anymore)"
   ]
  },
  {
   "cell_type": "markdown",
   "id": "04f1e7cc",
   "metadata": {},
   "source": [
    "He talked about the Ioffe and Szegedy paper on batch normalization - a 'very impactful paper that made it possible to train deep NNs "
   ]
  }
 ],
 "metadata": {
  "kernelspec": {
   "display_name": "Python 3 (ipykernel)",
   "language": "python",
   "name": "python3"
  },
  "language_info": {
   "codemirror_mode": {
    "name": "ipython",
    "version": 3
   },
   "file_extension": ".py",
   "mimetype": "text/x-python",
   "name": "python",
   "nbconvert_exporter": "python",
   "pygments_lexer": "ipython3",
   "version": "3.11.5"
  }
 },
 "nbformat": 4,
 "nbformat_minor": 5
}
